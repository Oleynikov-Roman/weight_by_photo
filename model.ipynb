{
 "cells": [
  {
   "cell_type": "code",
   "execution_count": 3,
   "metadata": {
    "_cell_guid": "b1076dfc-b9ad-4769-8c92-a6c4dae69d19",
    "_uuid": "8f2839f25d086af736a60e9eeb907d3b93b6e0e5",
    "execution": {
     "iopub.execute_input": "2022-05-13T07:41:22.448641Z",
     "iopub.status.busy": "2022-05-13T07:41:22.44838Z",
     "iopub.status.idle": "2022-05-13T07:41:22.454899Z",
     "shell.execute_reply": "2022-05-13T07:41:22.454131Z",
     "shell.execute_reply.started": "2022-05-13T07:41:22.448611Z"
    }
   },
   "outputs": [],
   "source": [
    "from PIL import Image\n",
    "import matplotlib.pyplot as plt\n",
    "import numpy as np\n",
    "import pandas as pd\n",
    "from tensorflow.keras.preprocessing.image import ImageDataGenerator\n",
    "from tensorflow.keras.applications.resnet import ResNet50\n",
    "from tensorflow.keras.preprocessing.image import ImageDataGenerator\n",
    "from tensorflow.keras.layers import GlobalAveragePooling2D, Dense\n",
    "from tensorflow.keras.models import Sequential\n",
    "from tensorflow.keras.optimizers import Adam\n",
    "import numpy as np\n",
    "import pandas as pd\n",
    "import tensorflow as tf\n",
    "import warnings\n",
    "from tensorflow import keras\n",
    "warnings.filterwarnings(\"ignore\")"
   ]
  },
  {
   "cell_type": "code",
   "execution_count": null,
   "metadata": {
    "execution": {
     "iopub.execute_input": "2022-05-13T07:41:22.460288Z",
     "iopub.status.busy": "2022-05-13T07:41:22.460041Z",
     "iopub.status.idle": "2022-05-13T07:41:22.937782Z",
     "shell.execute_reply": "2022-05-13T07:41:22.936603Z",
     "shell.execute_reply.started": "2022-05-13T07:41:22.46026Z"
    }
   },
   "outputs": [],
   "source": [
    "labels = pd.read_csv('../input/weight-by-photo/data.csv').drop(\"Unnamed: 0\",axis=1)\n",
    "train_datagen = ImageDataGenerator(rescale=1./255)\n",
    "train_gen_flow = train_datagen.flow_from_dataframe(\n",
    "        dataframe=labels,\n",
    "        directory='../input/weight-by-photo/photo/',\n",
    "        x_col='filename',\n",
    "        y_col='weight',\n",
    "        target_size=(224, 224),\n",
    "        batch_size=32,\n",
    "        class_mode='raw',\n",
    "        seed=12345)"
   ]
  },
  {
   "cell_type": "code",
   "execution_count": null,
   "metadata": {
    "execution": {
     "iopub.execute_input": "2022-05-13T07:41:22.939623Z",
     "iopub.status.busy": "2022-05-13T07:41:22.939385Z",
     "iopub.status.idle": "2022-05-13T07:41:22.951857Z",
     "shell.execute_reply": "2022-05-13T07:41:22.951136Z",
     "shell.execute_reply.started": "2022-05-13T07:41:22.93959Z"
    }
   },
   "outputs": [],
   "source": [
    "labels.info()"
   ]
  },
  {
   "cell_type": "code",
   "execution_count": null,
   "metadata": {
    "execution": {
     "iopub.execute_input": "2022-05-13T07:41:22.953756Z",
     "iopub.status.busy": "2022-05-13T07:41:22.953214Z",
     "iopub.status.idle": "2022-05-13T07:41:23.260607Z",
     "shell.execute_reply": "2022-05-13T07:41:23.259881Z",
     "shell.execute_reply.started": "2022-05-13T07:41:22.95372Z"
    }
   },
   "outputs": [],
   "source": [
    "labels.hist(bins=100)"
   ]
  },
  {
   "cell_type": "code",
   "execution_count": null,
   "metadata": {
    "execution": {
     "iopub.execute_input": "2022-05-13T07:41:23.262996Z",
     "iopub.status.busy": "2022-05-13T07:41:23.262545Z",
     "iopub.status.idle": "2022-05-13T07:41:24.475034Z",
     "shell.execute_reply": "2022-05-13T07:41:24.474428Z",
     "shell.execute_reply.started": "2022-05-13T07:41:23.262953Z"
    }
   },
   "outputs": [],
   "source": [
    "features, target = next(train_gen_flow)\n",
    "\n",
    "fig = plt.figure(figsize=(10,10))\n",
    "for i in range(12):\n",
    "    fig.add_subplot(4, 4, i+1)\n",
    "    plt.imshow(features[i])\n",
    "    plt.xticks([])\n",
    "    plt.yticks([])\n",
    "    plt.tight_layout()"
   ]
  },
  {
   "cell_type": "code",
   "execution_count": null,
   "metadata": {
    "execution": {
     "iopub.execute_input": "2022-05-13T07:41:24.476551Z",
     "iopub.status.busy": "2022-05-13T07:41:24.476215Z",
     "iopub.status.idle": "2022-05-13T07:41:24.49279Z",
     "shell.execute_reply": "2022-05-13T07:41:24.492236Z",
     "shell.execute_reply.started": "2022-05-13T07:41:24.47652Z"
    }
   },
   "outputs": [],
   "source": [
    "def load_train():\n",
    "    labels = pd.read_csv('../input/weight-by-photo/data.csv').drop(\"Unnamed: 0\",axis=1)\n",
    "    datagen = ImageDataGenerator(validation_split=0.1, vertical_flip=True,horizontal_flip=True,width_shift_range=0.2,height_shift_range=0.2,rotation_range=90, rescale=1./255)\n",
    "    train_gen_flow = datagen.flow_from_dataframe(\n",
    "        dataframe=labels,\n",
    "        directory='../input/weight-by-photo/photo/',\n",
    "        x_col='filename',\n",
    "        y_col='weight',\n",
    "        target_size=(224, 224),\n",
    "        batch_size=16,\n",
    "        class_mode='raw',\n",
    "        subset='training',\n",
    "        seed=12345)\n",
    "\n",
    "    return train_gen_flow\n",
    "\n",
    "def load_test():\n",
    "    labels = pd.read_csv('../input/weight-by-photo/data.csv').drop(\"Unnamed: 0\",axis=1)\n",
    "    datagen = ImageDataGenerator(validation_split=0.1, rescale=1./255)\n",
    "    test_gen_flow = datagen.flow_from_dataframe(\n",
    "        dataframe=labels,\n",
    "        directory='../input/weight-by-photo/photo/',\n",
    "        x_col='filename',\n",
    "        y_col='weight',\n",
    "        target_size=(224, 224),\n",
    "        batch_size=16,\n",
    "        class_mode='raw',\n",
    "        subset='validation',\n",
    "        seed=12345)\n",
    "\n",
    "    return test_gen_flow\n",
    "\n",
    "\n",
    "def create_model():\n",
    "\n",
    "    backbone = ResNet50(input_shape=(224,224,3),\n",
    "                    weights='imagenet', \n",
    "                    include_top=False)\n",
    "    model = Sequential()\n",
    "    model.add(backbone)\n",
    "    model.add(GlobalAveragePooling2D())\n",
    "    model.add(Dense(1, activation='relu'))\n",
    "\n",
    "    optimizer = Adam(learning_rate=0.0001)\n",
    "    model.compile(optimizer=optimizer, loss='mean_squared_error',\n",
    "                  metrics=['mae'])\n",
    "\n",
    "\n",
    "    return model\n",
    "\n",
    "\n",
    "def train_model(model, train_data, test_data, batch_size=None, epochs=100,\n",
    "                steps_per_epoch=None, validation_steps=None):\n",
    "\n",
    "    if steps_per_epoch is None:\n",
    "        steps_per_epoch = len(train_data)\n",
    "    if validation_steps is None:\n",
    "        validation_steps = len(test_data)\n",
    "\n",
    "    model.fit(train_data,\n",
    "              validation_data=test_data,\n",
    "              batch_size=batch_size, \n",
    "              epochs=epochs,\n",
    "              steps_per_epoch=steps_per_epoch,\n",
    "              validation_steps=validation_steps,\n",
    "              verbose=2)\n",
    "\n",
    "    return model"
   ]
  },
  {
   "cell_type": "code",
   "execution_count": null,
   "metadata": {
    "execution": {
     "iopub.execute_input": "2022-05-13T07:41:24.494276Z",
     "iopub.status.busy": "2022-05-13T07:41:24.493903Z",
     "iopub.status.idle": "2022-05-13T08:12:46.378644Z",
     "shell.execute_reply": "2022-05-13T08:12:46.377801Z",
     "shell.execute_reply.started": "2022-05-13T07:41:24.49424Z"
    }
   },
   "outputs": [],
   "source": [
    "train=load_train()\n",
    "test=load_test()\n",
    "model=create_model()\n",
    "model1=train_model(model,train,test)"
   ]
  },
  {
   "cell_type": "code",
   "execution_count": null,
   "metadata": {},
   "outputs": [],
   "source": [
    "model1.save('model1.h5')"
   ]
  },
  {
   "cell_type": "code",
   "execution_count": 4,
   "metadata": {},
   "outputs": [],
   "source": [
    "model_loaded = keras.models.load_model('model1.h5')"
   ]
  },
  {
   "cell_type": "code",
   "execution_count": 6,
   "metadata": {},
   "outputs": [
    {
     "name": "stdout",
     "output_type": "stream",
     "text": [
      "Your weight: 76.92\n"
     ]
    }
   ],
   "source": [
    "from PIL import Image\n",
    "import numpy as np\n",
    "from skimage import transform\n",
    "def load(filename):\n",
    "   np_image = Image.open(filename)\n",
    "   np_image = np.array(np_image).astype('float32')/255\n",
    "   np_image = transform.resize(np_image, (224, 224, 3))\n",
    "   np_image = np.expand_dims(np_image, axis=0)\n",
    "   return np_image\n",
    "\n",
    "image = load('2.jpg')\n",
    "prediction=model_loaded.predict(image)[0][0]\n",
    "print(\"Your weight: {:.2f}\".format(prediction))"
   ]
  },
  {
   "cell_type": "code",
   "execution_count": null,
   "metadata": {},
   "outputs": [],
   "source": []
  }
 ],
 "metadata": {
  "kernelspec": {
   "display_name": "Python 3",
   "language": "python",
   "name": "python3"
  },
  "language_info": {
   "codemirror_mode": {
    "name": "ipython",
    "version": 3
   },
   "file_extension": ".py",
   "mimetype": "text/x-python",
   "name": "python",
   "nbconvert_exporter": "python",
   "pygments_lexer": "ipython3",
   "version": "3.8.8"
  }
 },
 "nbformat": 4,
 "nbformat_minor": 4
}
